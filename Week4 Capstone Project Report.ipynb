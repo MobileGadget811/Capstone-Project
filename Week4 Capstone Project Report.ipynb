{
    "cells": [
        {
            "metadata": {
                "collapsed": true
            },
            "cell_type": "markdown",
            "source": "<h1><center>Opening a New Shopping Mall in Ahembdabad<center><h1>"
        },
        {
            "metadata": {},
            "cell_type": "markdown",
            "source": "<b><center>By:Vaishali Chaudhari<center><b>"
        },
        {
            "metadata": {},
            "cell_type": "markdown",
            "source": "<b><center>March 2021</center></b>"
        },
        {
            "metadata": {},
            "cell_type": "markdown",
            "source": " <img src=\"https://i.ytimg.com/vi/OLkHFZbDYhg/maxresdefault.jpg\">"
        },
        {
            "metadata": {},
            "cell_type": "markdown",
            "source": "<h1>Introduction</h1>"
        },
        {
            "metadata": {},
            "cell_type": "markdown",
            "source": "<p>For many shoppers,visiting shopping malls is a great way to relax and enjoy themselves during weekends and holidays.They can do\ngrocery shopping,dine at restaurant,shop at the various fashion outlets,watch movies and perform many more activities.Shopping malls \nare like a one stop destination for all types of shoppers.For retailers,the central location and the large crowdat the shopping malls\nprovides a great distribution channel to market their products and services.Property developers are also taking taking advantage of this\ntrend to build more shopping mallsto cater to the demand.As aa result,there are many shopping malls in the city of Ahembdabad and many\nmore are being built.Opening shopping malls allows property developers to earn consistent rental income.Of course,as with any business\ndecision,opening a new shopping mallrequires serious consideration and is alot more complicated than it seems.Particularly,the location \nof the shopping mall is one of the most important decisions that will determine whether the mall will be a success or a failure."
        },
        {
            "metadata": {},
            "cell_type": "markdown",
            "source": "<h3> Business Problem</h3>"
        },
        {
            "metadata": {},
            "cell_type": "markdown",
            "source": "<p>The objective of this capstone project is to analyze and select best location in the city of Ahembdabad,India to open a new shopping mall.Using data science methedology and machine learning techniques like clustering,this project aims to provide solution to answer the business question:In the city of Ahembdabad,India,If a property developer is looking to open a new shopping mall,where would you recommend that they open it?</p>"
        },
        {
            "metadata": {},
            "cell_type": "markdown",
            "source": "<h3>Target Audience of this Project</h3>"
        },
        {
            "metadata": {},
            "cell_type": "markdown",
            "source": "<p>This project is particularly useful to property developers and investors looking to open or invest in new shopping malls in city of Ahembdabad,India.This project is timely as the city is currently suffering from oversupply of shopping malls</p>"
        },
        {
            "metadata": {},
            "cell_type": "markdown",
            "source": "<h1>Data</h1>"
        },
        {
            "metadata": {},
            "cell_type": "markdown",
            "source": "<b>To solve the problem we need following data:</b>"
        },
        {
            "metadata": {},
            "cell_type": "markdown",
            "source": "<ul>\n   <li>List of neighborhoods in Ahembdabad,India.This defines the scope of this project which is confined to the city of Ahembdabad,one of the largest city of India</li>\n   <li>Latitude and longitude coordinates of those neighborhoods.This is required in order to plot the map and also to get the venue data</li>\n   <li>Venue data,particularly data related to shopping malls.we will use this data to perform clustering on the neighborhoods</li>\n</ul>"
        },
        {
            "metadata": {},
            "cell_type": "markdown",
            "source": "<b>Sources of data and methods to extract them</b>"
        },
        {
            "metadata": {},
            "cell_type": "markdown",
            "source": "<p>This Wikipedia page (https://en.wikipedia.org/wiki/Category:Neighbourhoods_in_Ahmedabad) contains a list of neighborhoods in Ahembdabad with total of 80 neighborhoods.We will use web scrapping  techniques to extract data from the Wikipedia page,with the help of python requests and beautifulsoup packages.Then we will get the geographical co-ordinates ofthe neighborhoods using Python Geocoder Package which will give us latitude and longitude coordinates of the neighborhoods</p>\n<p>After that,we will use Foursquare API to get the venue data for those neighborhoods.Foursquare has one of the largest database of 105+ million places and is used by over 125,000 developers.Foursquare API will provide many categories of the venue data,we are particularly interested in the Shopping Mall category in order to help us to solve the business problem put forward.This is a project that will make use of many data science skills,from web scraping(Wikipedia),working with API(Foursquare),data cleaning,data wrangling,to machine learning(K-means clustering) and map visualisation(Folium).In the next section,we will discuss the steps taken in this project,the data analysis that we did and the machine learning technique that was used  </p>"
        },
        {
            "metadata": {},
            "cell_type": "code",
            "source": "",
            "execution_count": null,
            "outputs": []
        }
    ],
    "metadata": {
        "kernelspec": {
            "name": "python3",
            "display_name": "Python 3.7",
            "language": "python"
        },
        "language_info": {
            "name": "python",
            "version": "3.7.10",
            "mimetype": "text/x-python",
            "codemirror_mode": {
                "name": "ipython",
                "version": 3
            },
            "pygments_lexer": "ipython3",
            "nbconvert_exporter": "python",
            "file_extension": ".py"
        }
    },
    "nbformat": 4,
    "nbformat_minor": 1
}