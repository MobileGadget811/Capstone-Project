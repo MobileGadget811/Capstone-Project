{
    "cells": [
        {
            "metadata": {
                "collapsed": true
            },
            "cell_type": "markdown",
            "source": "<h1>Capstone Project - Battle Of Neighbourhood</h1>"
        },
        {
            "metadata": {},
            "cell_type": "markdown",
            "source": "Let me introduce the contacts of the capstone project through a scenario. \n\nyou live on the West side of the City of Toronto in Canada.\nYou love your neighborhood mainly because of all the great amenities and\nother types of venues that exist in the neighborhood.\nSuch as gourmet fast food joints, pharmacies, parks, grad schools,\nand so on.\n\nNow say you receive a job offer from a great company on the other side of\nthe city with great career prospects.\nHowever, given the far distance from your current place,\nyou unfortunately must move if you decide to accept the offer.\nWouldn't it be great if you're able to determine neighborhoods on\nthe other side of the city?.\n\nThere are exactly the same as your current neighborhood, and if not,\nperhaps similar neighborhoods that are at least closer to your new job. "
        },
        {
            "metadata": {},
            "cell_type": "code",
            "source": "import pandas as pd\nimport numpy as np",
            "execution_count": 3,
            "outputs": []
        },
        {
            "metadata": {},
            "cell_type": "code",
            "source": "print(\"Hello Capstone Project Course!\")",
            "execution_count": 4,
            "outputs": [
                {
                    "output_type": "stream",
                    "text": "Hello Capstone Project Course!\n",
                    "name": "stdout"
                }
            ]
        },
        {
            "metadata": {},
            "cell_type": "code",
            "source": "",
            "execution_count": null,
            "outputs": []
        }
    ],
    "metadata": {
        "kernelspec": {
            "name": "python3",
            "display_name": "Python 3.7",
            "language": "python"
        },
        "language_info": {
            "name": "python",
            "version": "3.7.10",
            "mimetype": "text/x-python",
            "codemirror_mode": {
                "name": "ipython",
                "version": 3
            },
            "pygments_lexer": "ipython3",
            "nbconvert_exporter": "python",
            "file_extension": ".py"
        }
    },
    "nbformat": 4,
    "nbformat_minor": 1
}